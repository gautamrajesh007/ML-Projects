{
 "cells": [
  {
   "cell_type": "code",
   "execution_count": 1,
   "metadata": {},
   "outputs": [],
   "source": [
    "import pandas as pd\n",
    "from sklearn.model_selection import train_test_split\n",
    "from sklearn.ensemble import RandomForestClassifier\n",
    "from sklearn.metrics import accuracy_score\n",
    "import json"
   ]
  },
  {
   "cell_type": "code",
   "execution_count": 2,
   "metadata": {},
   "outputs": [
    {
     "data": {
      "text/plain": [
       "(2025082, 3)"
      ]
     },
     "execution_count": 2,
     "metadata": {},
     "output_type": "execute_result"
    }
   ],
   "source": [
    "train_data_1 = pd.read_json('/home/gautam/Downloads/part0.json')\n",
    "train_data_1.shape"
   ]
  },
  {
   "cell_type": "code",
   "execution_count": 3,
   "metadata": {},
   "outputs": [
    {
     "data": {
      "text/html": [
       "<div>\n",
       "<style scoped>\n",
       "    .dataframe tbody tr th:only-of-type {\n",
       "        vertical-align: middle;\n",
       "    }\n",
       "\n",
       "    .dataframe tbody tr th {\n",
       "        vertical-align: top;\n",
       "    }\n",
       "\n",
       "    .dataframe thead th {\n",
       "        text-align: right;\n",
       "    }\n",
       "</style>\n",
       "<table border=\"1\" class=\"dataframe\">\n",
       "  <thead>\n",
       "    <tr style=\"text-align: right;\">\n",
       "      <th></th>\n",
       "      <th>ip</th>\n",
       "      <th>timestamp</th>\n",
       "      <th>ports</th>\n",
       "    </tr>\n",
       "  </thead>\n",
       "  <tbody>\n",
       "    <tr>\n",
       "      <th>2025077</th>\n",
       "      <td>47.93.128.126</td>\n",
       "      <td>2021-04-30 10:31:01</td>\n",
       "      <td>[{'port': 80, 'proto': 'tcp', 'status': 'open'...</td>\n",
       "    </tr>\n",
       "    <tr>\n",
       "      <th>2025078</th>\n",
       "      <td>108.167.246.208</td>\n",
       "      <td>2021-04-30 10:31:01</td>\n",
       "      <td>[{'port': 23, 'proto': 'tcp', 'status': 'open'...</td>\n",
       "    </tr>\n",
       "    <tr>\n",
       "      <th>2025079</th>\n",
       "      <td>108.62.10.66</td>\n",
       "      <td>2021-04-30 10:31:02</td>\n",
       "      <td>[{'port': 22, 'proto': 'tcp', 'status': 'open'...</td>\n",
       "    </tr>\n",
       "    <tr>\n",
       "      <th>2025080</th>\n",
       "      <td>165.227.174.242</td>\n",
       "      <td>2021-04-30 10:31:02</td>\n",
       "      <td>[{'port': 80, 'proto': 'tcp', 'status': 'open'...</td>\n",
       "    </tr>\n",
       "    <tr>\n",
       "      <th>2025081</th>\n",
       "      <td>103.199.244.223</td>\n",
       "      <td>2021-04-30 10:31:02</td>\n",
       "      <td>[{'port': 8000, 'proto': 'tcp', 'status': 'ope...</td>\n",
       "    </tr>\n",
       "  </tbody>\n",
       "</table>\n",
       "</div>"
      ],
      "text/plain": [
       "                      ip           timestamp  \\\n",
       "2025077    47.93.128.126 2021-04-30 10:31:01   \n",
       "2025078  108.167.246.208 2021-04-30 10:31:01   \n",
       "2025079     108.62.10.66 2021-04-30 10:31:02   \n",
       "2025080  165.227.174.242 2021-04-30 10:31:02   \n",
       "2025081  103.199.244.223 2021-04-30 10:31:02   \n",
       "\n",
       "                                                     ports  \n",
       "2025077  [{'port': 80, 'proto': 'tcp', 'status': 'open'...  \n",
       "2025078  [{'port': 23, 'proto': 'tcp', 'status': 'open'...  \n",
       "2025079  [{'port': 22, 'proto': 'tcp', 'status': 'open'...  \n",
       "2025080  [{'port': 80, 'proto': 'tcp', 'status': 'open'...  \n",
       "2025081  [{'port': 8000, 'proto': 'tcp', 'status': 'ope...  "
      ]
     },
     "execution_count": 3,
     "metadata": {},
     "output_type": "execute_result"
    }
   ],
   "source": [
    "train_data_1.tail()"
   ]
  }
 ],
 "metadata": {
  "kernelspec": {
   "display_name": "tensorflow",
   "language": "python",
   "name": "python3"
  },
  "language_info": {
   "codemirror_mode": {
    "name": "ipython",
    "version": 3
   },
   "file_extension": ".py",
   "mimetype": "text/x-python",
   "name": "python",
   "nbconvert_exporter": "python",
   "pygments_lexer": "ipython3",
   "version": "3.9.16"
  },
  "orig_nbformat": 4,
  "vscode": {
   "interpreter": {
    "hash": "20635451e602de1545eaca9e4e5deb100b7b0b34b8cc46124e9d1f2908f7fdfd"
   }
  }
 },
 "nbformat": 4,
 "nbformat_minor": 2
}
