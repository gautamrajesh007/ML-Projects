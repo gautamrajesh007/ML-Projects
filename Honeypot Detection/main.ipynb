{
 "cells": [
  {
   "cell_type": "code",
   "execution_count": 13,
   "metadata": {},
   "outputs": [],
   "source": [
    "import pandas as pd\n",
    "from sklearn.model_selection import train_test_split\n",
    "from sklearn.ensemble import RandomForestClassifier\n",
    "from sklearn.metrics import accuracy_score\n",
    "import json"
   ]
  },
  {
   "cell_type": "code",
   "execution_count": 14,
   "metadata": {},
   "outputs": [
    {
     "data": {
      "text/plain": [
       "(2025082, 3)"
      ]
     },
     "execution_count": 14,
     "metadata": {},
     "output_type": "execute_result"
    }
   ],
   "source": [
    "train_data_1 = pd.read_json('/home/gautam/Documents/Datasets/Honeypot Detection/part0.json')\n",
    "train_data_1.shape"
   ]
  },
  {
   "cell_type": "code",
   "execution_count": 15,
   "metadata": {},
   "outputs": [
    {
     "data": {
      "text/html": [
       "<div>\n",
       "<style scoped>\n",
       "    .dataframe tbody tr th:only-of-type {\n",
       "        vertical-align: middle;\n",
       "    }\n",
       "\n",
       "    .dataframe tbody tr th {\n",
       "        vertical-align: top;\n",
       "    }\n",
       "\n",
       "    .dataframe thead th {\n",
       "        text-align: right;\n",
       "    }\n",
       "</style>\n",
       "<table border=\"1\" class=\"dataframe\">\n",
       "  <thead>\n",
       "    <tr style=\"text-align: right;\">\n",
       "      <th></th>\n",
       "      <th>ip</th>\n",
       "      <th>timestamp</th>\n",
       "      <th>ports</th>\n",
       "    </tr>\n",
       "  </thead>\n",
       "  <tbody>\n",
       "    <tr>\n",
       "      <th>0</th>\n",
       "      <td>165.221.32.138</td>\n",
       "      <td>2021-04-27 22:30:31</td>\n",
       "      <td>[{'port': 21, 'proto': 'tcp', 'status': 'open'...</td>\n",
       "    </tr>\n",
       "    <tr>\n",
       "      <th>1</th>\n",
       "      <td>168.221.1.91</td>\n",
       "      <td>2021-04-27 22:30:32</td>\n",
       "      <td>[{'port': 22, 'proto': 'tcp', 'status': 'open'...</td>\n",
       "    </tr>\n",
       "    <tr>\n",
       "      <th>2</th>\n",
       "      <td>23.209.158.186</td>\n",
       "      <td>2021-04-27 22:30:32</td>\n",
       "      <td>[{'port': 80, 'proto': 'tcp', 'status': 'open'...</td>\n",
       "    </tr>\n",
       "    <tr>\n",
       "      <th>3</th>\n",
       "      <td>138.197.230.69</td>\n",
       "      <td>2021-04-27 22:30:32</td>\n",
       "      <td>[{'port': 80, 'proto': 'tcp', 'status': 'open'...</td>\n",
       "    </tr>\n",
       "    <tr>\n",
       "      <th>4</th>\n",
       "      <td>79.135.141.187</td>\n",
       "      <td>2021-04-27 22:30:32</td>\n",
       "      <td>[{'port': 80, 'proto': 'tcp', 'status': 'open'...</td>\n",
       "    </tr>\n",
       "  </tbody>\n",
       "</table>\n",
       "</div>"
      ],
      "text/plain": [
       "               ip           timestamp  \\\n",
       "0  165.221.32.138 2021-04-27 22:30:31   \n",
       "1    168.221.1.91 2021-04-27 22:30:32   \n",
       "2  23.209.158.186 2021-04-27 22:30:32   \n",
       "3  138.197.230.69 2021-04-27 22:30:32   \n",
       "4  79.135.141.187 2021-04-27 22:30:32   \n",
       "\n",
       "                                               ports  \n",
       "0  [{'port': 21, 'proto': 'tcp', 'status': 'open'...  \n",
       "1  [{'port': 22, 'proto': 'tcp', 'status': 'open'...  \n",
       "2  [{'port': 80, 'proto': 'tcp', 'status': 'open'...  \n",
       "3  [{'port': 80, 'proto': 'tcp', 'status': 'open'...  \n",
       "4  [{'port': 80, 'proto': 'tcp', 'status': 'open'...  "
      ]
     },
     "execution_count": 15,
     "metadata": {},
     "output_type": "execute_result"
    }
   ],
   "source": [
    "train_data_1.head()"
   ]
  },
  {
   "cell_type": "code",
   "execution_count": 16,
   "metadata": {},
   "outputs": [
    {
     "name": "stdout",
     "output_type": "stream",
     "text": [
      "port : 21\n",
      "proto : tcp\n",
      "status : open\n",
      "reason : syn-ack\n",
      "ttl : 245\n",
      "port : 22\n",
      "proto : tcp\n",
      "status : open\n",
      "reason : syn-ack\n",
      "ttl : 57\n",
      "port : 80\n",
      "proto : tcp\n",
      "status : open\n",
      "reason : syn-ack\n",
      "ttl : 52\n"
     ]
    }
   ],
   "source": [
    "x = train_data_1.iloc[:3, 2]\n",
    "for k in x:\n",
    "    for l in k:\n",
    "        for i,j in l.items():\n",
    "            print(i, ':', j)"
   ]
  }
 ],
 "metadata": {
  "kernelspec": {
   "display_name": "tensorflow",
   "language": "python",
   "name": "python3"
  },
  "language_info": {
   "codemirror_mode": {
    "name": "ipython",
    "version": 3
   },
   "file_extension": ".py",
   "mimetype": "text/x-python",
   "name": "python",
   "nbconvert_exporter": "python",
   "pygments_lexer": "ipython3",
   "version": "3.9.16"
  },
  "orig_nbformat": 4,
  "vscode": {
   "interpreter": {
    "hash": "20635451e602de1545eaca9e4e5deb100b7b0b34b8cc46124e9d1f2908f7fdfd"
   }
  }
 },
 "nbformat": 4,
 "nbformat_minor": 2
}
